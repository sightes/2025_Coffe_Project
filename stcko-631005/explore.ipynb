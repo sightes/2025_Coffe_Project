{
 "cells": [
  {
   "cell_type": "code",
   "execution_count": 1,
   "id": "bd71bedc",
   "metadata": {},
   "outputs": [],
   "source": [
    "import json\n",
    "import pandas as pd\n",
    "with open('data.json', 'r') as f:\n",
    "    raw_data = json.load(f)"
   ]
  },
  {
   "cell_type": "code",
   "execution_count": null,
   "id": "e1e1ccbb",
   "metadata": {},
   "outputs": [],
   "source": [
    "records = []\n",
    "values = raw_data[0]['data']['values']\n",
    "\n",
    "for year_entry in values:\n",
    "    year = year_entry['inventory_year']\n",
    "    for item in year_entry['values_']:\n",
    "        variable_uid = item['variable_uid']\n",
    "        value = item['value']['value']  # Asumimos siempre tipo number\n",
    "        records.append({\n",
    "            'inventory_year': year,\n",
    "            'variable_uid': variable_uid,\n",
    "            'value': value\n",
    "        })\n",
    "\n",
    "df = pd.DataFrame(records)\n",
    "\n",
    "df.to_csv('output.csv', index=False)"
   ]
  },
  {
   "cell_type": "code",
   "execution_count": 3,
   "id": "a21d6a48",
   "metadata": {},
   "outputs": [
    {
     "data": {
      "text/html": [
       "<div>\n",
       "<style scoped>\n",
       "    .dataframe tbody tr th:only-of-type {\n",
       "        vertical-align: middle;\n",
       "    }\n",
       "\n",
       "    .dataframe tbody tr th {\n",
       "        vertical-align: top;\n",
       "    }\n",
       "\n",
       "    .dataframe thead th {\n",
       "        text-align: right;\n",
       "    }\n",
       "</style>\n",
       "<table border=\"1\" class=\"dataframe\">\n",
       "  <thead>\n",
       "    <tr style=\"text-align: right;\">\n",
       "      <th></th>\n",
       "      <th>inventory_year</th>\n",
       "      <th>variable_uid</th>\n",
       "      <th>value</th>\n",
       "    </tr>\n",
       "  </thead>\n",
       "  <tbody>\n",
       "    <tr>\n",
       "      <th>0</th>\n",
       "      <td>1990</td>\n",
       "      <td>52ab74bd-0a97-4a23-a2fc-b1c63e884b7d</td>\n",
       "      <td>286655.160371</td>\n",
       "    </tr>\n",
       "    <tr>\n",
       "      <th>1</th>\n",
       "      <td>1990</td>\n",
       "      <td>f05d8ef0-cd04-4769-81be-303183271230</td>\n",
       "      <td>250480.712349</td>\n",
       "    </tr>\n",
       "    <tr>\n",
       "      <th>2</th>\n",
       "      <td>1991</td>\n",
       "      <td>52ab74bd-0a97-4a23-a2fc-b1c63e884b7d</td>\n",
       "      <td>286655.160371</td>\n",
       "    </tr>\n",
       "    <tr>\n",
       "      <th>3</th>\n",
       "      <td>1991</td>\n",
       "      <td>f05d8ef0-cd04-4769-81be-303183271230</td>\n",
       "      <td>250480.712349</td>\n",
       "    </tr>\n",
       "  </tbody>\n",
       "</table>\n",
       "</div>"
      ],
      "text/plain": [
       "  inventory_year                          variable_uid          value\n",
       "0           1990  52ab74bd-0a97-4a23-a2fc-b1c63e884b7d  286655.160371\n",
       "1           1990  f05d8ef0-cd04-4769-81be-303183271230  250480.712349\n",
       "2           1991  52ab74bd-0a97-4a23-a2fc-b1c63e884b7d  286655.160371\n",
       "3           1991  f05d8ef0-cd04-4769-81be-303183271230  250480.712349"
      ]
     },
     "execution_count": 3,
     "metadata": {},
     "output_type": "execute_result"
    }
   ],
   "source": [
    "df"
   ]
  }
 ],
 "metadata": {
  "kernelspec": {
   "display_name": "Python 3",
   "language": "python",
   "name": "python3"
  },
  "language_info": {
   "codemirror_mode": {
    "name": "ipython",
    "version": 3
   },
   "file_extension": ".py",
   "mimetype": "text/x-python",
   "name": "python",
   "nbconvert_exporter": "python",
   "pygments_lexer": "ipython3",
   "version": "3.9.6"
  }
 },
 "nbformat": 4,
 "nbformat_minor": 5
}
