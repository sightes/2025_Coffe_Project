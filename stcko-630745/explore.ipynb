{
 "cells": [
  {
   "cell_type": "code",
   "execution_count": 2,
   "id": "a7b92b41",
   "metadata": {},
   "outputs": [
    {
     "ename": "",
     "evalue": "",
     "output_type": "error",
     "traceback": [
      "\u001b[1;31mEl kernel se bloqueó al ejecutar código en la celda actual o en una celda anterior. \n",
      "\u001b[1;31mRevise el código de las celdas para identificar una posible causa del error. \n",
      "\u001b[1;31mHaga clic <a href='https://aka.ms/vscodeJupyterKernelCrash'>aquí</a> para obtener más información. \n",
      "\u001b[1;31mVea Jupyter <a href='command:jupyter.viewOutput'>log</a> para obtener más detalles."
     ]
    }
   ],
   "source": [
    "import tkinter as tk\n",
    "\n",
    "ventana = tk.Tk()\n",
    "ventana.title(\"Calculadora\")\n",
    "\n",
    "visor_texto = tk.StringVar()\n",
    "\n",
    "visor = tk.Entry(ventana, textvariable=visor_texto, font=('Helvetica', 24), bd=10, insertwidth=4, width=14, borderwidth=4, justify='right')\n",
    "visor.grid(row=0, column=0, columnspan=4)\n",
    "\n",
    "# Función que se llama al pulsar cualquier botón\n",
    "def pulsar_tecla(tecla):\n",
    "    if tecla == 'C':\n",
    "        visor_texto.set(\"\")\n",
    "    elif tecla == '=':\n",
    "        try:\n",
    "            resultado = eval(visor_texto.get())\n",
    "            visor_texto.set(str(resultado))\n",
    "        except:\n",
    "            visor_texto.set(\"Error\")\n",
    "    else:\n",
    "        visor_texto.set(visor_texto.get() + tecla)\n",
    "\n",
    "# Definición de botones\n",
    "botones = [\n",
    "    ('7', 1, 0), ('8', 1, 1), ('9', 1, 2), ('/', 1, 3),\n",
    "    ('4', 2, 0), ('5', 2, 1), ('6', 2, 2), ('*', 2, 3),\n",
    "    ('1', 3, 0), ('2', 3, 1), ('3', 3, 2), ('-', 3, 3),\n",
    "    ('0', 4, 0), ('.', 4, 1), ('C', 4, 2), ('+', 4, 3)\n",
    "]\n",
    "\n",
    "# Crear botones (excepto \"=\")\n",
    "for texto, fila, columna in botones:\n",
    "    tk.Button(ventana, \n",
    "              text=texto, \n",
    "              padx=20, pady=20, \n",
    "              font=('Helvetica', 20), \n",
    "              command=lambda t=texto: pulsar_tecla(t)).grid(\n",
    "                  row=fila, column=columna, sticky='nsew'\n",
    "              )\n",
    "\n",
    "# Botón \"=\" que ocupa toda la última fila\n",
    "tk.Button(ventana,\n",
    "          text='=',\n",
    "          padx=20, pady=20,\n",
    "          font=('Helvetica', 20),\n",
    "          command=lambda: pulsar_tecla('=')).grid(\n",
    "              row=5, column=0, columnspan=4, sticky='nsew')\n",
    "\n",
    "ventana.mainloop()"
   ]
  },
  {
   "cell_type": "code",
   "execution_count": null,
   "id": "5fead87f",
   "metadata": {},
   "outputs": [],
   "source": []
  }
 ],
 "metadata": {
  "kernelspec": {
   "display_name": "Python 3",
   "language": "python",
   "name": "python3"
  },
  "language_info": {
   "codemirror_mode": {
    "name": "ipython",
    "version": 3
   },
   "file_extension": ".py",
   "mimetype": "text/x-python",
   "name": "python",
   "nbconvert_exporter": "python",
   "pygments_lexer": "ipython3",
   "version": "3.9.6"
  }
 },
 "nbformat": 4,
 "nbformat_minor": 5
}
