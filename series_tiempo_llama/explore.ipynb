{
 "cells": [
  {
   "cell_type": "code",
   "execution_count": null,
   "id": "5fcb442c",
   "metadata": {},
   "outputs": [],
   "source": [
    "import torch\n",
    "from lag_llama.gluon.estimator import LagLlamaEstimator\n",
    "from lag_llama.gluon.lightning_module import LagLlamaLightningModule\n",
    "from gluonts.torch.distributions.studentT import StudentTOutput\n",
    "import torch.serialization\n",
    "from gluonts.torch.modules.loss import NegativeLogLikelihood\n",
    "torch.serialization.add_safe_globals([StudentTOutput, NegativeLogLikelihood])\n",
    "\n",
    "# Permitir cargar la clase StudentTOutput en torch.load (PyTorch >=2.6)\n",
    "torch.serialization.add_safe_globals([StudentTOutput])\n",
    "\n",
    "# 1. Cargar el checkpoint\n",
    "ckpt = torch.load(\"checkpoints/lag-llama.ckpt\", map_location=\"cpu\", weights_only=False)\n",
    "estimator_args = ckpt[\"hyper_parameters\"][\"model_kwargs\"]\n",
    "\n",
    "# 2. Completar los argumentos requeridos (si no están)\n",
    "estimator_args.update({\n",
    "    \"prediction_length\": 365,\n",
    "    \"context_length\": 365,\n",
    "    \"distr_output\": \"studentT\",\n",
    "    \"input_size\": 1,\n",
    "    \"lags_seq\": [\"M\"],\n",
    "    \"batch_size\": 32,\n",
    "    \"num_batches_per_epoch\": 10,\n",
    "    \"trainer_kwargs\": {\"max_epochs\": 1},\n",
    "})\n",
    "\n",
    "# 3. Inicializar el estimator\n",
    "estimator = LagLlamaEstimator(**estimator_args)\n",
    "\n",
    "# 4. Crear el módulo desde el checkpoint\n",
    "module = LagLlamaLightningModule.load_from_checkpoint(\n",
    "    checkpoint_path=\"checkpoints/lag-llama.ckpt\",\n",
    "    map_location=\"cpu\"\n",
    ")\n",
    "\n",
    "# 5. Crear transformación y predictor\n",
    "transformation = estimator.create_transformation()\n",
    "predictor = estimator.create_predictor(transformation=transformation, module=module)"
   ]
  },
  {
   "cell_type": "code",
   "execution_count": 17,
   "id": "b2890b75",
   "metadata": {},
   "outputs": [
    {
     "name": "stderr",
     "output_type": "stream",
     "text": [
      "/Users/sebastianulloa/.virtualenvs/py310/lib/python3.9/site-packages/pandas/plotting/_matplotlib/core.py:1409: UserWarning: Attempting to set identical low and high xlims makes transformation singular; automatically expanding.\n",
      "  ax.set_xlim(left, right)\n"
     ]
    },
    {
     "data": {
      "image/png": "[encoded data removed]",
      "text/plain": [
       "<Figure size 640x480 with 1 Axes>"
      ]
     },
     "metadata": {},
     "output_type": "display_data"
    }
   ],
   "source": [
    "import torch\n",
    "import pandas as pd\n",
    "import matplotlib.pyplot as plt\n",
    "\n",
    "from lag_llama.gluon.estimator import LagLlamaEstimator\n",
    "from lag_llama.gluon.lightning_module import LagLlamaLightningModule\n",
    "\n",
    "from gluonts.dataset.pandas import PandasDataset\n",
    "from gluonts.evaluation import make_evaluation_predictions\n",
    "from gluonts.torch.distributions.studentT import StudentTOutput\n",
    "from gluonts.torch.modules.loss import NegativeLogLikelihood\n",
    "import torch.serialization\n",
    "\n",
    "# Agregar clases necesarias a PyTorch 2.6+\n",
    "torch.serialization.add_safe_globals([StudentTOutput, NegativeLogLikelihood])\n",
    "\n",
    "# Cargar el checkpoint\n",
    "ckpt_path = \"checkpoints/lag-llama.ckpt\"\n",
    "ckpt = torch.load(ckpt_path, map_location=\"cpu\", weights_only=False)\n",
    "estimator_args = ckpt[\"hyper_parameters\"][\"model_kwargs\"]\n",
    "\n",
    "# Completar argumentos requeridos\n",
    "estimator_args.update({\n",
    "    \"prediction_length\": 365,\n",
    "    \"context_length\": 180,\n",
    "    \"distr_output\": \"studentT\",\n",
    "    \"input_size\": 1,\n",
    "    \"lags_seq\": [\"D\"],\n",
    "    \"batch_size\": 32,\n",
    "    \"num_batches_per_epoch\": 10,\n",
    "    \"trainer_kwargs\": {\"max_epochs\": 1},\n",
    "})\n",
    "\n",
    "# Inicializar estimator\n",
    "estimator = LagLlamaEstimator(**estimator_args)\n",
    "\n",
    "# Crear módulo desde checkpoint\n",
    "module = LagLlamaLightningModule.load_from_checkpoint(\n",
    "    checkpoint_path=ckpt_path,\n",
    "    map_location=\"cpu\"\n",
    ")\n",
    "\n",
    "# Crear transformación y predictor\n",
    "transformation = estimator.create_transformation()\n",
    "predictor = estimator.create_predictor(transformation=transformation, module=module)\n",
    "\n",
    "# Cargar datos\n",
    "df = pd.read_csv(\"serie_3_anos.csv\")\n",
    "\n",
    "df[\"fecha\"] = pd.to_datetime(df[\"fecha\"])\n",
    "df = df.set_index(\"fecha\")\n",
    "\n",
    "# 👇 Conversión de tipo\n",
    "df[\"valor\"] = df[\"valor\"].astype(\"float32\")\n",
    "\n",
    "df = df[[\"valor\"]]\n",
    "\n",
    "# Crear dataset GluonTS\n",
    "dataset = PandasDataset(df, target=\"valor\", freq=\"D\")\n",
    "# Realizar predicciones\n",
    "forecast_it, ts_it = make_evaluation_predictions(\n",
    "    dataset=dataset,\n",
    "    predictor=predictor,\n",
    "    num_samples=100\n",
    ")\n",
    "# Visualizar resultado\n",
    "forecast = list(forecast_it)[0]\n",
    "serie_real = list(ts_it)[0]\n",
    "\n",
    "# Plot real\n",
    "#serie_real.plot(label=\"Serie real\", color=\"black\")\n",
    "\n",
    "# Plot predicción media\n",
    "forecast.mean_ts.plot(label=\"Pronóstico (media)\", color=\"blue\")\n",
    "\n",
    "# Opcional: intervalo de confianza\n",
    "#forecast.quantile_ts(0.1).plot(label=\"P10\", linestyle=\"--\", color=\"skyblue\")\n",
    "#forecast.quantile_ts(0.9).plot(label=\"P90\", linestyle=\"--\", color=\"skyblue\")\n",
    "\n",
    "plt.legend()\n",
    "plt.title(\"Pronóstico de los últimos 365 días (Lag-Llama)\")\n",
    "plt.tight_layout()\n",
    "plt.show()"
   ]
  },
  {
   "cell_type": "code",
   "execution_count": 18,
   "id": "1959bbbd",
   "metadata": {},
   "outputs": [
    {
     "name": "stdout",
     "output_type": "stream",
     "text": [
      "                  mean\n",
      "2022-01-01  100.733955\n"
     ]
    }
   ],
   "source": [
    "forecast_df = forecast.mean_ts.to_frame(name=\"mean\")\n",
    "print(forecast_df.head())"
   ]
  },
  {
   "cell_type": "code",
   "execution_count": null,
   "id": "5e2e5250",
   "metadata": {},
   "outputs": [],
   "source": []
  }
 ],
 "metadata": {
  "kernelspec": {
   "display_name": "py310",
   "language": "python",
   "name": "python3"
  },
  "language_info": {
   "codemirror_mode": {
    "name": "ipython",
    "version": 3
   },
   "file_extension": ".py",
   "mimetype": "text/x-python",
   "name": "python",
   "nbconvert_exporter": "python",
   "pygments_lexer": "ipython3",
   "version": "3.9.6"
  }
 },
 "nbformat": 4,
 "nbformat_minor": 5
}
